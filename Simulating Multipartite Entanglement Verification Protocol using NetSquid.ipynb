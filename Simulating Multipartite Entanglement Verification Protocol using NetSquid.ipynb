{
 "cells": [
  {
   "cell_type": "code",
   "execution_count": 74,
   "metadata": {},
   "outputs": [],
   "source": [
    "import netsquid as ns\n",
    "from netsquid.nodes import Node, DirectConnection\n",
    "from netsquid.components import QuantumChannel, ClassicalChannel\n",
    "from netsquid.protocols import NodeProtocol\n",
    "from netsquid.components.models.delaymodels import FibreDelayModel\n",
    "import numpy as np"
   ]
  },
  {
   "cell_type": "code",
   "execution_count": 75,
   "metadata": {},
   "outputs": [],
   "source": [
    "#Define nodes in the network\n",
    "n=2\n",
    "source_node = Node(name=\"Source\")\n",
    "verifier_node = Node(name=\"Verifier\")\n",
    "parties_node={}\n",
    "for i in range(1,n):\n",
    "    parties_node[\"Party\"+str(i)]=Node(name=\"Party\"+str(i))\n",
    "\n",
    "#Define channels\n",
    "delay_model = FibreDelayModel()\n",
    "distance = 400/1000 #Distance between nodes in km\n",
    "\n",
    "#Quantum channel\n",
    "qchannelv = QuantumChannel(name = \"qchannelS2V\",length = distance, models = {\"delay_model\":delay_model})\n",
    "qchannelp={}\n",
    "for i in range(1,n):\n",
    "    qchannelp[\"Party\"+str(i)] = QuantumChannel(name = \"qchannelS2P\"+str(i),length = distance, models = {\"delay_model\":delay_model})\n",
    "\n",
    "#Classical channels\n",
    "channelp={}\n",
    "for i in range(1,n):\n",
    "    for j in range(i,n):\n",
    "            channelp[\"V2Party\"+str(i)] = ClassicalChannel(\"V_to_Party\"+str(i),length = distance, models = {\"delay_model\":delay_model})\n",
    "            channelp[\"Party\"+str(i)+\"2V\"] = ClassicalChannel(\"Party\"+str(i)+\"_to_V\",length = distance, models = {\"delay_model\":delay_model})\n",
    "\n",
    "\n",
    "#Add ports to nodes\n",
    "source_node.add_ports([\"vout\"])\n",
    "verifier_node.add_ports(['sin'])\n",
    "for i in range(1,n):\n",
    "    parties_node[\"Party\"+str(i)].add_ports([\"sin\",\"vin\",\"vout\"])\n",
    "    verifier_node.add_ports(['p'+str(i)+'in','p'+str(i)+'out'])\n",
    "    source_node.add_ports(['p'+str(i)+'out'])\n",
    "\n",
    "#Connect ports to channels\n",
    "for i in range(1,n):\n",
    "    parties_node[\"Party\"+str(i)].ports['vout'].connect(channelp[\"Party\"+str(i)+\"2V\"].ports['send'])\n",
    "    verifier_node.ports['p'+str(i)+'in'].connect(channelp[\"Party\"+str(i)+\"2V\"].ports['recv'])\n",
    "    \n",
    "    verifier_node.ports['p'+str(i)+'out'].connect(channelp[\"V2Party\"+str(i)].ports['send'])\n",
    "    parties_node[\"Party\"+str(i)].ports['vin'].connect(channelp[\"V2Party\"+str(i)].ports['recv'])\n",
    "    \n",
    "    source_node.ports['p'+str(i)+'out'].connect(qchannelp[\"Party\"+str(i)].ports['send'])\n",
    "    parties_node[\"Party\"+str(i)].ports['sin'].connect(qchannelp[\"Party\"+str(i)].ports['recv'])    \n",
    "\n",
    "source_node.ports['vout'].connect(qchannelv.ports['send'])\n",
    "verifier_node.ports['sin'].connect(qchannelv.ports['recv'])\n",
    "\n"
   ]
  },
  {
   "cell_type": "code",
   "execution_count": 76,
   "metadata": {},
   "outputs": [],
   "source": [
    "class VerifierProtocol(NodeProtocol):\n",
    "    def __init__(self,node, n):\n",
    "        super().__init__(node)\n",
    "        self.n = n\n",
    "    \n",
    "    #Protocol definition starts here\n",
    "    def run(self):\n",
    "        yield self.await_port_input(self.node.ports['sin'])\n",
    "        psi = self.node.ports['sin'].rx_input().items[0]\n",
    "        \n",
    "        X = []\n",
    "        Y = []\n",
    "        \n",
    "        for i in range(1,self.n):\n",
    "            bit = np.random.randint(2)\n",
    "            X.append(bit)\n",
    "            self.node.ports['p'+str(i)+'out'].tx_output(bit)\n",
    "            yield self.await_port_input(self.node.ports['p'+str(i)+'in'])\n",
    "            Y.append(self.node.ports['p'+str(i)+'in'].rx_input().items[0])\n",
    "            \n",
    "        x=np.sum(X)%2\n",
    "        X.append(x)\n",
    "        #print(X)\n",
    "        if x == 0:\n",
    "            ns.qubits.operate(psi, ns.Z)\n",
    "        elif x==1:\n",
    "            ns.qubits.operate(psi, ns.H)\n",
    "        m,p=ns.qubits.measure(psi)\n",
    "        Y.append(m)\n",
    "        #print(Y)\n",
    "        print(np.sum(Y)%2==(np.sum(X)/2)%2)\n",
    "        test=(np.sum(Y)%2==(np.sum(X)/2)%2)\n",
    "        if(test==False):\n",
    "            print('Dishonest model')\n",
    "            for i in range(1,self.n):\n",
    "                self.node.ports['p'+str(i)+'out'].tx_output(0) #Send failure message\n",
    "            return\n",
    "        for i in range(1,self.n):\n",
    "                self.node.ports['p'+str(i)+'out'].tx_output(1) #Send success message\n",
    "        print(\"Honest model\")"
   ]
  },
  {
   "cell_type": "code",
   "execution_count": 77,
   "metadata": {},
   "outputs": [],
   "source": [
    "class PartyProtocol(NodeProtocol):\n",
    "    def __init__(self,node, n):\n",
    "        super().__init__(node)\n",
    "        self.n = n\n",
    "    \n",
    "    #Protocol definition starts here\n",
    "    def run(self):\n",
    "        yield self.await_port_input(self.node.ports['sin'])\n",
    "        psi = self.node.ports['sin'].rx_input().items[0]\n",
    "        \n",
    "        yield self.await_port_input(self.node.ports['vin'])\n",
    "        x = self.node.ports['vin'].rx_input().items[0]\n",
    "        \n",
    "        if x == 0:\n",
    "            ns.qubits.operate(psi, ns.Z)\n",
    "        elif x==1:\n",
    "            ns.qubits.operate(psi, ns.H)\n",
    "        m,p=ns.qubits.measure(psi)\n",
    "        \n",
    "        self.node.ports['vout'].tx_output(m)\n",
    "        \n",
    "        yield self.await_port_input(self.node.ports['vin'])\n",
    "        test = self.node.ports['vin'].rx_input().items[0]\n",
    "        if(test==0):\n",
    "            print('Dishonest model-Party')\n",
    "        else:\n",
    "            print('Honest model-Party')"
   ]
  },
  {
   "cell_type": "code",
   "execution_count": 81,
   "metadata": {},
   "outputs": [],
   "source": [
    "class SourceProtocol(NodeProtocol):\n",
    "    def __init__(self,node,n,honest=True):\n",
    "        super().__init__(node)\n",
    "        self.n = n\n",
    "        self.h=honest\n",
    "    def run(self):\n",
    "        qubits= ns.qubits.create_qubits(5)\n",
    "        if self.h:\n",
    "            ns.qubits.combine_qubits(qubits)\n",
    "            ns.qubits.operate(qubits[0], ns.H)\n",
    "            for i in range(1,self.n):\n",
    "                ns.qubits.operate([qubits[i], qubits[i+1]], ns.CNOT)\n",
    "            #print(qubits[0].qstate.qrepr)\n",
    "        self.node.ports['vout'].tx_output(qubits[0])       \n",
    "        for i in range(1,self.n):\n",
    "            self.node.ports['p'+str(i)+'out'].tx_output(qubits[i])\n",
    "        print(\"Source- Qubits sent\")\n",
    "        "
   ]
  },
  {
   "cell_type": "code",
   "execution_count": 82,
   "metadata": {},
   "outputs": [],
   "source": [
    "source=SourceProtocol(source_node,n)\n",
    "verifier=VerifierProtocol(verifier_node,n)\n",
    "party=[]\n",
    "for i in range(1,n):\n",
    "    party.append(PartyProtocol(parties_node[\"Party\"+str(i)],n))"
   ]
  },
  {
   "cell_type": "code",
   "execution_count": 83,
   "metadata": {
    "scrolled": false
   },
   "outputs": [
    {
     "name": "stdout",
     "output_type": "stream",
     "text": [
      "Source- Qubits sent\n",
      "True\n",
      "Honest model\n",
      "Honest model-Party\n"
     ]
    }
   ],
   "source": [
    "source.start()\n",
    "verifier.start()\n",
    "for i in range(0,n-1):\n",
    "    party[i].start()\n",
    "run_stats = ns.sim_run()\n",
    "source.stop()\n",
    "verifier.stop()\n",
    "for i in range(0,n-1):\n",
    "    party[i].stop()"
   ]
  },
  {
   "cell_type": "code",
   "execution_count": 92,
   "metadata": {},
   "outputs": [
    {
     "name": "stdout",
     "output_type": "stream",
     "text": [
      "Source- Qubits sent\n",
      "False\n",
      "Dishonest model\n",
      "Dishonest model-Party\n"
     ]
    }
   ],
   "source": [
    "source_dh=SourceProtocol(source_node,n,False)\n",
    "source_dh.start()\n",
    "verifier.start()\n",
    "for i in range(0,n-1):\n",
    "    party[i].start()\n",
    "run_stats = ns.sim_run()\n",
    "source_dh.stop()\n",
    "verifier.stop()\n",
    "for i in range(0,n-1):\n",
    "    party[i].stop()"
   ]
  }
 ],
 "metadata": {
  "kernelspec": {
   "display_name": "Python 3 (ipykernel)",
   "language": "python",
   "name": "python3"
  },
  "language_info": {
   "codemirror_mode": {
    "name": "ipython",
    "version": 3
   },
   "file_extension": ".py",
   "mimetype": "text/x-python",
   "name": "python",
   "nbconvert_exporter": "python",
   "pygments_lexer": "ipython3",
   "version": "3.7.2"
  }
 },
 "nbformat": 4,
 "nbformat_minor": 2
}
